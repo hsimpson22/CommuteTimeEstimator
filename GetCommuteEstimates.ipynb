{
 "cells": [
  {
   "cell_type": "markdown",
   "metadata": {},
   "source": [
    "#Get Weekday Commute Estimates from Google\n",
    "\n",
    "This is a little script that will take your home and work address, and write a CSV file of estimated commute times from Google's Traffic model accessed from their Distance Matrix API. "
   ]
  },
  {
   "cell_type": "markdown",
   "metadata": {},
   "source": [
    "First set up Google Developer account and API keys for Geocode and Distance Matrix, and download the Python wrapper available here: https://github.com/googlemaps/google-maps-services-python.git"
   ]
  },
  {
   "cell_type": "code",
   "execution_count": 1,
   "metadata": {
    "collapsed": true
   },
   "outputs": [],
   "source": [
    "#!/usr/bin/env python\n",
    "\n",
    "import googlemaps\n",
    "import datetime\n",
    "import pandas as pd\n",
    "import numpy as np\n",
    "import time"
   ]
  },
  {
   "cell_type": "markdown",
   "metadata": {},
   "source": [
    "### Departure Time in Google Maps API query has to be in the future, so need to get today's date time, and pick the nearest Monday-Friday times that are in the future"
   ]
  },
  {
   "cell_type": "code",
   "execution_count": null,
   "metadata": {
    "collapsed": true
   },
   "outputs": [],
   "source": [
    "def futuredays(number):\n",
    "    today = datetime.date.today()\n",
    "    futureday = today.replace(day = today.day+number)\n",
    "    return futureday\n",
    "#example: tomorrow = futuredays(1)"
   ]
  },
  {
   "cell_type": "code",
   "execution_count": null,
   "metadata": {
    "collapsed": true
   },
   "outputs": [],
   "source": [
    "#Generate date objects for the next 7 days from the current day\n",
    "next7days = [futuredays(i) for i in range(1,8)]\n",
    "\n",
    "next7daysofweek = [d.weekday() for d in next7days] "
   ]
  },
  {
   "cell_type": "markdown",
   "metadata": {},
   "source": [
    "###Get the date for each weekday \n",
    "date.weekday will return day of the week for date as integer: Monday is 0 and Sunday is 6"
   ]
  },
  {
   "cell_type": "code",
   "execution_count": null,
   "metadata": {
    "collapsed": true
   },
   "outputs": [],
   "source": [
    "mon = next7days[next7daysofweek.index(0)]\n",
    "tues = next7days[next7daysofweek.index(1)]\n",
    "wed = next7days[next7daysofweek.index(2)]\n",
    "thurs = next7days[next7daysofweek.index(3)]\n",
    "fri = next7days[next7daysofweek.index(4)]"
   ]
  },
  {
   "cell_type": "code",
   "execution_count": null,
   "metadata": {
    "collapsed": true
   },
   "outputs": [],
   "source": [
    "def getmorningcommutetimes(dayname):\n",
    "    times = {}\n",
    "    times['8'] = datetime.datetime(dayname.year, dayname.month, dayname.day, 8)\n",
    "    times['8:30'] = datetime.datetime(dayname.year, dayname.month, dayname.day, 8, 30)\n",
    "    times['9'] = datetime.datetime(dayname.year, dayname.month, dayname.day, 9)\n",
    "    times['9:30'] = datetime.datetime(dayname.year, dayname.month, dayname.day, 9, 30)\n",
    "    times['10'] = datetime.datetime(dayname.year, dayname.month, dayname.day, 10)\n",
    "    return times"
   ]
  },
  {
   "cell_type": "code",
   "execution_count": null,
   "metadata": {
    "collapsed": true
   },
   "outputs": [],
   "source": [
    "def geteveningcommutetimes(dayname):\n",
    "    times = {}\n",
    "    times['5'] = datetime.datetime(dayname.year, dayname.month, dayname.day, 17)\n",
    "    times['5:30'] = datetime.datetime(dayname.year, dayname.month, dayname.day, 17, 30)\n",
    "    times['6'] = datetime.datetime(dayname.year, dayname.month, dayname.day, 18)\n",
    "    times['6:30'] = datetime.datetime(dayname.year, dayname.month, dayname.day, 18, 30)\n",
    "    times['7'] = datetime.datetime(dayname.year, dayname.month, dayname.day, 19)\n",
    "    times['7:30'] = datetime.datetime(dayname.year, dayname.month, dayname.day, 19,30)\n",
    "    times['8'] = datetime.datetime(dayname.year, dayname.month, dayname.day, 20)\n",
    "    return times  "
   ]
  },
  {
   "cell_type": "markdown",
   "metadata": {},
   "source": [
    "###Create dictionary containing all the datetime objects that we'll use in our queries"
   ]
  },
  {
   "cell_type": "code",
   "execution_count": null,
   "metadata": {
    "collapsed": true
   },
   "outputs": [],
   "source": [
    "daynames = ['monday', 'tuesday', 'wednesday', 'thursday', 'friday']\n",
    "alltimes = {}\n",
    "daycount = 0\n",
    "for wkday in [mon, tues, wed, thurs, fri]:\n",
    "    morning = getmorningcommutetimes(wkday)\n",
    "    evening = geteveningcommutetimes(wkday)\n",
    "    alltimes[daynames[daycount]]=[morning,evening]\n",
    "    daycount += 1"
   ]
  },
  {
   "cell_type": "code",
   "execution_count": null,
   "metadata": {
    "collapsed": true
   },
   "outputs": [],
   "source": [
    "gmaps = googlemaps.Client(key = \"yourkey\")\n",
    "\n",
    "home = gmaps.geocode('2100 Latham Street, Mountain View CA')\n",
    "work = gmaps.geocode('3011 North 1st Street, San Jose CA')\n",
    "#The distance_matrix service will convert strings to lat-long for you but I'm doing it here so we don't have to do it every time in the query (might cost as an extra query towards the usage limit?)"
   ]
  },
  {
   "cell_type": "code",
   "execution_count": null,
   "metadata": {
    "collapsed": true
   },
   "outputs": [],
   "source": [
    "#Get dict containing lat and lon for that address\n",
    "home_coord = home[0]['geometry']['location']\n",
    "work_coord = work[0]['geometry']['location']"
   ]
  },
  {
   "cell_type": "markdown",
   "metadata": {},
   "source": [
    "## Getting all the morning times"
   ]
  },
  {
   "cell_type": "markdown",
   "metadata": {},
   "source": [
    "In distance matrix queries the argument order is: origin, destination, so morning times should be (home, work) and evening times (work,home)"
   ]
  },
  {
   "cell_type": "code",
   "execution_count": null,
   "metadata": {
    "collapsed": true
   },
   "outputs": [],
   "source": [
    "for d in daynames:\n",
    "    for k in alltimes[d][0].keys():\n",
    "      optimistic = gmaps.distance_matrix(home_coord, work_coord, mode=\"driving\", units=\"imperial\", departure_time=alltimes[d][0][k], traffic_model=\"optimistic\")         \n",
    "      pessimistic = gmaps.distance_matrix(home_coord, work_coord, mode=\"driving\", units=\"imperial\", departure_time=alltimes[d][0][k], traffic_model=\"pessimistic\")\n",
    "      optim_time = optimistic['rows'][0]['elements'][0]['duration_in_traffic']['value']\n",
    "      pessim_time = pessimistic['rows'][0]['elements'][0]['duration_in_traffic']['value']\n",
    "      alltimes[d][0][k] = [alltimes[d][0][k], optim_time, pessim_time]"
   ]
  },
  {
   "cell_type": "markdown",
   "metadata": {},
   "source": [
    "##Wait 10 seconds\n",
    "The free API is limited to 100 elements per 10 seconds, 2500 elements / day, where # of Elements = # of origins x # of destinations\n",
    "\n",
    "Finding all the morning commute times = 7 days x 5 times x 2 (optimistic/pessimistic) = 70. There are 7 evening times so = 98. So we have to make the script wait between these two loops."
   ]
  },
  {
   "cell_type": "code",
   "execution_count": null,
   "metadata": {
    "collapsed": true
   },
   "outputs": [],
   "source": [
    "time.sleep(10) #Waits 10 seconds"
   ]
  },
  {
   "cell_type": "markdown",
   "metadata": {},
   "source": [
    "##Getting all the evening times"
   ]
  },
  {
   "cell_type": "code",
   "execution_count": null,
   "metadata": {
    "collapsed": true
   },
   "outputs": [],
   "source": [
    "for d in daynames:\n",
    "    for k in alltimes[d][1].keys():\n",
    "      optimistic = gmaps.distance_matrix(work_coord, home_coord, mode=\"driving\", units=\"imperial\", departure_time=alltimes[d][1][k], traffic_model=\"optimistic\")         \n",
    "      pessimistic = gmaps.distance_matrix(work_coord, home_coord, mode=\"driving\", units=\"imperial\", departure_time=alltimes[d][1][k], traffic_model=\"pessimistic\")\n",
    "      optim_time = optimistic['rows'][0]['elements'][0]['duration_in_traffic']['value']\n",
    "      pessim_time = pessimistic['rows'][0]['elements'][0]['duration_in_traffic']['value']\n",
    "      alltimes[d][1][k] = [alltimes[d][1][k], optim_time, pessim_time]"
   ]
  },
  {
   "cell_type": "markdown",
   "metadata": {},
   "source": [
    "##Create DataFrame of Commute times for analysis"
   ]
  },
  {
   "cell_type": "code",
   "execution_count": null,
   "metadata": {
    "collapsed": true
   },
   "outputs": [],
   "source": [
    "dayofweek  = []\n",
    "whichcommute = []\n",
    "timeofday = []\n",
    "date_time = []\n",
    "traffic = []\n",
    "estimate = []\n",
    "for d in alltimes.keys(): #for each day of the week\n",
    "    for k in alltimes[d][0].keys():\n",
    "        dayofweek.extend([d,d])\n",
    "        whichcommute.extend([\"morning\",\"morning\"])\n",
    "        timeofday.extend([k,k])\n",
    "        date_time.extend([str(alltimes[d][0][k][0]), str(alltimes[d][0][k][0])])\n",
    "        traffic.append('good')\n",
    "        estimate.append(float(alltimes[d][0][k][1])/float(60)) # seconds -> minutes\n",
    "        traffic.append('bad')\n",
    "        estimate.append(float(alltimes[d][0][k][2])/float(60)) # seconds -> minutes\n",
    "    for k in alltimes[d][1].keys():\n",
    "        dayofweek.extend([d,d])\n",
    "        whichcommute.extend([\"evening\",\"evening\"])\n",
    "        timeofday.extend([k,k])\n",
    "        date_time.extend([str(alltimes[d][1][k][0]),str(alltimes[d][1][k][0])])\n",
    "        traffic.append('good')\n",
    "        estimate.append(float(alltimes[d][1][k][1])/float(60)) # seconds -> minutes\n",
    "        traffic.append('bad')\n",
    "        estimate.append(float(alltimes[d][1][k][2])/float(60)) # seconds -> minutes"
   ]
  },
  {
   "cell_type": "code",
   "execution_count": null,
   "metadata": {
    "collapsed": true
   },
   "outputs": [],
   "source": [
    "alltimes_df = pd.DataFrame({'DayofWeek':dayofweek, 'WhichCommute':whichcommute, 'TimeofDay':timeofday, 'Traffic':traffic, 'Estimate':estimate}, index = pd.to_datetime(date_time))"
   ]
  },
  {
   "cell_type": "code",
   "execution_count": null,
   "metadata": {
    "collapsed": true
   },
   "outputs": [],
   "source": [
    "#Optional write to CSV \n",
    "alltimes_df.to_csv(\"yourfilenamehere\")"
   ]
  },
  {
   "cell_type": "markdown",
   "metadata": {},
   "source": [
    "##Plot stuff"
   ]
  },
  {
   "cell_type": "code",
   "execution_count": null,
   "metadata": {
    "collapsed": true
   },
   "outputs": [],
   "source": [
    "morningcommute = alltimes_df[[u'Estimate']][alltimes_df['WhichCommute']==\"morning\"]\n",
    "drivingtimes = alltimes_df[[u'Estimate']]\n",
    "drivingtimes['Hour'] = alltimes_df.index.hour\n",
    "drivingtimes.groupby('Hour').aggregate(np.median).plot()"
   ]
  },
  {
   "cell_type": "code",
   "execution_count": null,
   "metadata": {
    "collapsed": true
   },
   "outputs": [],
   "source": [
    "import seaborn as sns\n",
    "sns.regplot(x=\"Hour\", y=\"Estimate\", fit_reg=False, data=drivingtimes)\n",
    "\n",
    "alltimes_df.groupby('TimeofDay').aggregate(np.median).plot()"
   ]
  },
  {
   "cell_type": "code",
   "execution_count": null,
   "metadata": {
    "collapsed": true
   },
   "outputs": [],
   "source": [
    "alltimes_df['TimeofDay'] = alltimes_df['TimeofDay'].astype(\"category\", categories=['8', '8:30', '9', '9:30', '10', '5', '5:30', '6','6:30', '7', '7:30'], ordered=False)\n",
    "sns.stripplot(x=\"TimeofDay\", y=\"Estimate\", data=alltimes_df)"
   ]
  }
 ],
 "metadata": {
  "kernelspec": {
   "display_name": "Python 2",
   "language": "python",
   "name": "python2"
  },
  "language_info": {
   "codemirror_mode": {
    "name": "ipython",
    "version": 2
   },
   "file_extension": ".py",
   "mimetype": "text/x-python",
   "name": "python",
   "nbconvert_exporter": "python",
   "pygments_lexer": "ipython2",
   "version": "2.7.11"
  }
 },
 "nbformat": 4,
 "nbformat_minor": 0
}
